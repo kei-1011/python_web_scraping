{
 "cells": [
  {
   "cell_type": "code",
   "execution_count": 1,
   "metadata": {},
   "outputs": [],
   "source": [
    "from newspaper import Article"
   ]
  },
  {
   "cell_type": "code",
   "execution_count": 2,
   "metadata": {},
   "outputs": [],
   "source": [
    "URL = \"https://www3.nhk.or.jp/news/html/20201205/k10012747411000.html\""
   ]
  },
  {
   "cell_type": "code",
   "execution_count": 3,
   "metadata": {},
   "outputs": [],
   "source": [
    "article = Article(URL)"
   ]
  },
  {
   "cell_type": "code",
   "execution_count": 4,
   "metadata": {},
   "outputs": [],
   "source": [
    "article.download()"
   ]
  },
  {
   "cell_type": "code",
   "execution_count": 5,
   "metadata": {},
   "outputs": [],
   "source": [
    "article.parse()"
   ]
  },
  {
   "cell_type": "code",
   "execution_count": 6,
   "metadata": {},
   "outputs": [
    {
     "data": {
      "text/plain": [
       "'新型コロナ「ワクチンの接種義務化は逆効果」仏マクロン大統領'"
      ]
     },
     "execution_count": 6,
     "metadata": {},
     "output_type": "execute_result"
    }
   ],
   "source": [
    "article.title"
   ]
  },
  {
   "cell_type": "code",
   "execution_count": 7,
   "metadata": {},
   "outputs": [
    {
     "data": {
      "text/plain": [
       "'フランスのマクロン大統領は新型コロナウイルスのワクチンの接種について「義務化するのは逆効果だ」と述べ、有効性に関する情報の公開などを通じて接種への理解を得ていきたい考えを示しました。\\n\\nフランスのマクロン大統領は4日、オンラインメディア、「Brut.」の番組に出演し、2時間にわたって記者や視聴者の質問に応じました。\\n\\n\\n\\nフランスでは、来月から始められるとしている新型コロナウイルスのワクチンの接種を義務化しないことにしています。\\n\\n\\n\\nマクロン大統領は番組で、接種を義務化しない理由を尋ねられ、保健当局や研究機関による新しいワクチンの有効性などについて今後の評価が欠かせないと指摘しました。\\n\\n\\n\\nそのうえで「よく知られていないワクチンを義務化するのは逆効果だ。義務よりも透明性で納得してもらうことが大切だ」と述べ、有効性に関する情報の公開などを通じて接種への理解を得ていきたい考えを示しました。\\n\\n\\n\\nフランスでは、政府のまとめでこれまでに220万人を超える感染者が確認され、ヨーロッパで最も多くなっていますが、今月はじめに行われた世論調査では、61％がワクチンを接種しないつもりだと回答しています。'"
      ]
     },
     "execution_count": 7,
     "metadata": {},
     "output_type": "execute_result"
    }
   ],
   "source": [
    "article.text"
   ]
  },
  {
   "cell_type": "code",
   "execution_count": null,
   "metadata": {},
   "outputs": [],
   "source": []
  }
 ],
 "metadata": {
  "kernelspec": {
   "display_name": "Python 3",
   "language": "python",
   "name": "python3"
  },
  "language_info": {
   "codemirror_mode": {
    "name": "ipython",
    "version": 3
   },
   "file_extension": ".py",
   "mimetype": "text/x-python",
   "name": "python",
   "nbconvert_exporter": "python",
   "pygments_lexer": "ipython3",
   "version": "3.8.3"
  }
 },
 "nbformat": 4,
 "nbformat_minor": 4
}
