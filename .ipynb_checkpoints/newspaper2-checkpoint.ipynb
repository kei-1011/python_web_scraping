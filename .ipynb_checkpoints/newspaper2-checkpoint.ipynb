{
 "cells": [
  {
   "cell_type": "markdown",
   "metadata": {},
   "source": [
    "## 複数記事の取得"
   ]
  },
  {
   "cell_type": "code",
   "execution_count": 1,
   "metadata": {},
   "outputs": [],
   "source": [
    "import newspaper"
   ]
  },
  {
   "cell_type": "code",
   "execution_count": 2,
   "metadata": {},
   "outputs": [],
   "source": [
    "import csv\n",
    "# csvモジュールのインポート"
   ]
  },
  {
   "cell_type": "code",
   "execution_count": 3,
   "metadata": {},
   "outputs": [],
   "source": [
    "import datetime\n",
    "# 日付取得ライブラリ"
   ]
  },
  {
   "cell_type": "code",
   "execution_count": 4,
   "metadata": {},
   "outputs": [],
   "source": [
    "csv_date = datetime.datetime.today().strftime('%Y%m%d')\n",
    "# 本日の日付を取得"
   ]
  },
  {
   "cell_type": "code",
   "execution_count": 5,
   "metadata": {},
   "outputs": [],
   "source": [
    "csv_file_name = 'bloomberg_' + csv_date + '.csv'\n",
    "# 出力するCSVファイル名"
   ]
  },
  {
   "cell_type": "markdown",
   "metadata": {},
   "source": [
    "### CSVファイルへの書き込み\n",
    "\n",
    "ファイルオブジェクト = open(ディレクトリ + ファイル名, mode='w',encoding='cp932', errors='ignore')\n",
    "mode=w　→　書き込み\n",
    "\n",
    "writer = csv.writer(ファイルオブジェクト, lineterminator='\\n')\n",
    "lineterminator　→　１行書き込んだ後、\\nで改行する\n",
    "\n",
    "writer.writerow(リスト)\n",
    "\n",
    "ファイルオブジェクト.close()"
   ]
  },
  {
   "cell_type": "code",
   "execution_count": 6,
   "metadata": {},
   "outputs": [],
   "source": [
    "f = open(csv_file_name, mode='w',encoding='cp932',errors='ignore')"
   ]
  },
  {
   "cell_type": "code",
   "execution_count": 7,
   "metadata": {},
   "outputs": [
    {
     "data": {
      "text/plain": [
       "19"
      ]
     },
     "execution_count": 7,
     "metadata": {},
     "output_type": "execute_result"
    }
   ],
   "source": [
    "# ヘッダーの書き込み\n",
    "writer = csv.writer(f,lineterminator='\\n')\n",
    "csv_header = ['記事番号','タイトル','URL','サマリー']\n",
    "writer.writerow(csv_header)"
   ]
  },
  {
   "cell_type": "code",
   "execution_count": 8,
   "metadata": {},
   "outputs": [],
   "source": [
    "url = 'https://www.bloomberg.co.jp/'"
   ]
  },
  {
   "cell_type": "code",
   "execution_count": 9,
   "metadata": {},
   "outputs": [],
   "source": [
    "website = newspaper.build(url)\n",
    "# build でサイトトップページの記事を取得"
   ]
  },
  {
   "cell_type": "code",
   "execution_count": 10,
   "metadata": {},
   "outputs": [],
   "source": [
    "# forで１記事ずつ取り出す\n",
    "i = 0\n",
    "for article in website.articles:\n",
    "    csv_list = []\n",
    "    article.download()\n",
    "    article.parse()\n",
    "    article.nlp()\n",
    "    print('【記事】',str(i),':',article.title)\n",
    "    print(article.url)\n",
    "    print(article.summary, end='\\n\\n')\n",
    "\n",
    "    # CSVリストに追加\n",
    "    csv_list.append(str(i))\n",
    "    csv_list.append(article.title)\n",
    "    csv_list.append(article.url)\n",
    "    csv_list.append(article.summary)\n",
    "    \n",
    "    # CSVファイルに書き込み\n",
    "    writer.writerow(csv_list)\n",
    "    if i > 9:\n",
    "        break\n",
    "    i += 1\n",
    "\n",
    "f.close()"
   ]
  },
  {
   "cell_type": "code",
   "execution_count": null,
   "metadata": {},
   "outputs": [],
   "source": []
  }
 ],
 "metadata": {
  "kernelspec": {
   "display_name": "Python 3",
   "language": "python",
   "name": "python3"
  },
  "language_info": {
   "codemirror_mode": {
    "name": "ipython",
    "version": 3
   },
   "file_extension": ".py",
   "mimetype": "text/x-python",
   "name": "python",
   "nbconvert_exporter": "python",
   "pygments_lexer": "ipython3",
   "version": "3.8.3"
  }
 },
 "nbformat": 4,
 "nbformat_minor": 4
}
