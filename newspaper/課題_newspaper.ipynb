{
 "cells": [
  {
   "cell_type": "code",
   "execution_count": 2,
   "metadata": {},
   "outputs": [],
   "source": [
    "from newspaper import Article"
   ]
  },
  {
   "cell_type": "code",
   "execution_count": 3,
   "metadata": {},
   "outputs": [],
   "source": [
    "url = 'https://www.yomiuri.co.jp/economy/20201205-OYT1T50185/'"
   ]
  },
  {
   "cell_type": "code",
   "execution_count": 4,
   "metadata": {},
   "outputs": [],
   "source": [
    "article = Article(url)"
   ]
  },
  {
   "cell_type": "code",
   "execution_count": 5,
   "metadata": {},
   "outputs": [],
   "source": [
    "article.download()"
   ]
  },
  {
   "cell_type": "code",
   "execution_count": 6,
   "metadata": {},
   "outputs": [],
   "source": [
    "article.parse()"
   ]
  },
  {
   "cell_type": "code",
   "execution_count": 8,
   "metadata": {},
   "outputs": [
    {
     "data": {
      "text/plain": [
       "datetime.datetime(2020, 12, 5, 0, 0)"
      ]
     },
     "execution_count": 8,
     "metadata": {},
     "output_type": "execute_result"
    }
   ],
   "source": [
    "article.publish_date"
   ]
  },
  {
   "cell_type": "code",
   "execution_count": 10,
   "metadata": {},
   "outputs": [
    {
     "data": {
      "text/plain": [
       "[]"
      ]
     },
     "execution_count": 10,
     "metadata": {},
     "output_type": "execute_result"
    }
   ],
   "source": [
    "article.authors"
   ]
  },
  {
   "cell_type": "code",
   "execution_count": 11,
   "metadata": {},
   "outputs": [
    {
     "data": {
      "text/plain": [
       "'野菜の価格が大きく下落している。天候に恵まれ、生育が順調だったことに加え、新型コロナウイルスの感染拡大により外食需要が低迷していることが背景にある。家計にとっては朗報だが、生産者は頭を抱えている。\\n\\n５００玉無料配布\\n\\n東京都新宿区の青果店「新宿八百屋」では今月上旬、レタスが１玉５８円、ハクサイが１個１３８円で売られていた。いずれも平年より４割以上安い。６０歳代の主婦は「日常的に購入する野菜が安くなるのは助かる」と顔がほころんだ。\\n\\nただ、売れ行きは伸び悩む。感染拡大の影響で全体の１～２割を占める飲食店などへの業務用販売が低迷しているうえに、家庭は節約志向を高めている。運営会社の荒巻秀俊専務は「いくら安くしても売れない」と嘆く。\\n\\n特に葉物野菜は長持ちしないため、在庫が多すぎると、一気に安売りを迫られる。２日にはレタス約５００玉を無料で配った。\\n\\n東京・大田市場によると、１１月２０～２６日のレタスの卸売価格（中心価格帯）は前年同期比で６１％下落した。ハクサイ５８％減、キャベツ３５％減、ダイコン１６％減と軒並み安い。農林水産省は、今年は現時点で２００８年以来１２年ぶりに台風の上陸がないなど天候に恵まれたことに加え、外食需要の落ち込みで、供給がだぶついたことが要因と分析している。\\n\\n産地からは悲鳴があがっている。レタス産地のＪＡハイナン（静岡県牧之原市）の担当者は「価格が安くなれば利益が出ない。このまま安値が続けばやめてしまう農家が出てしまう恐れもある」と話す。\\n\\n鶏・豚肉は高値\\n\\n一方、国産の鶏肉や豚肉は高値で推移しそうだ。農水省によると、１１月の鶏肉（もも）の卸値（東京地区）は１キロ・グラムあたり６５４円で、前年同月と比べて約１２％高かった。豚肉の卸値（東京市場）も５３１円で１６％高い。\\n\\n鶏肉は、家庭向けが国産、業務向けが輸入と比較的すみ分けられている。外食需要が減っても、国産品価格を押し下げにくい。\\n\\n鶏肉は例年、需要が減る夏場に冷凍して、冬用の在庫に回している。しかし、今年はコロナ禍で夏場でも家庭用の売れ行きが堅調で、「すでに在庫が少ない」（食肉卸）ことも、高止まりの要因と考えられるという。\\n\\n国内では高病原性の鳥インフルエンザも猛威を振るっている。今のところ影響は限定的だが、出荷が滞れば価格がさらに上昇する懸念もある。'"
      ]
     },
     "execution_count": 11,
     "metadata": {},
     "output_type": "execute_result"
    }
   ],
   "source": [
    "article.text"
   ]
  },
  {
   "cell_type": "code",
   "execution_count": null,
   "metadata": {},
   "outputs": [],
   "source": []
  }
 ],
 "metadata": {
  "kernelspec": {
   "display_name": "Python 3",
   "language": "python",
   "name": "python3"
  },
  "language_info": {
   "codemirror_mode": {
    "name": "ipython",
    "version": 3
   },
   "file_extension": ".py",
   "mimetype": "text/x-python",
   "name": "python",
   "nbconvert_exporter": "python",
   "pygments_lexer": "ipython3",
   "version": "3.8.3"
  }
 },
 "nbformat": 4,
 "nbformat_minor": 4
}
