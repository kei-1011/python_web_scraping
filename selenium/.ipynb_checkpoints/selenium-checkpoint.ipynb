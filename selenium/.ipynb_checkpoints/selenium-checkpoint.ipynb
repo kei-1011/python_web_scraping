{
 "cells": [
  {
   "cell_type": "code",
   "execution_count": 28,
   "metadata": {},
   "outputs": [],
   "source": [
    "from selenium import webdriver\n",
    "from time import sleep\n",
    "from selenium.webdriver.chrome.options import Options"
   ]
  },
  {
   "cell_type": "code",
   "execution_count": 29,
   "metadata": {},
   "outputs": [],
   "source": [
    "options = Options()\n",
    "options.add_argument('--headless')\n",
    "driver = webdriver.Chrome('/Users/user/driver/chromedriver',options=options)\n",
    "driver.get('https://www.google.com/')"
   ]
  },
  {
   "cell_type": "code",
   "execution_count": 30,
   "metadata": {},
   "outputs": [],
   "source": [
    "# 検索バーの要素を取得\n",
    "search_bar = driver.find_element_by_name('q')\n",
    "\n",
    "# キーを送る\n",
    "search_bar.send_keys('python')"
   ]
  },
  {
   "cell_type": "code",
   "execution_count": 31,
   "metadata": {},
   "outputs": [],
   "source": [
    "# submit\n",
    "search_bar.submit()"
   ]
  },
  {
   "cell_type": "code",
   "execution_count": 32,
   "metadata": {},
   "outputs": [
    {
     "name": "stdout",
     "output_type": "stream",
     "text": [
      "プログラミング言語 Python - python.jp\n",
      "https://www.python.jp/\n",
      "Welcome to Python.org\n",
      "https://www.python.org/\n",
      "Pythonってどんな言語なの？ (1/2)：Python入門 - ＠IT\n",
      "https://www.atmarkit.co.jp/ait/articles/1904/02/news024.html\n",
      "Python - ウィキペディア\n",
      "https://ja.wikipedia.org/wiki/Python\n",
      "Python | プログラミングの入門なら基礎から学べるProgate ...\n",
      "https://prog-8.com/languages/python\n",
      "Python - Qiita\n",
      "https://qiita.com/tags/python\n",
      "Pythonとは？大人気プログラミング言語のメリットや活用事例 ...\n",
      "https://www.internetacademy.jp/it/programming/programming-basic/what-is-python.html\n",
      "Python入門 ～Pythonのインストール方法やPythonを使った ...\n",
      "https://www.javadrive.jp/python/\n",
      "とほほのPython入門 - とほほのWWW入門\n",
      "http://www.tohoho-web.com/python/\n"
     ]
    }
   ],
   "source": [
    "for elem_h3 in driver.find_elements_by_xpath('//a/h3'): # a > h3に該当する要素を抽出\n",
    "    print(elem_h3.text)\n",
    "    elem_a = elem_h3.find_element_by_xpath('..') # h3要素の親要素（a)を取得\n",
    "    print(elem_a.get_attribute('href')) # aタグのhref属性"
   ]
  },
  {
   "cell_type": "code",
   "execution_count": null,
   "metadata": {},
   "outputs": [],
   "source": []
  }
 ],
 "metadata": {
  "kernelspec": {
   "display_name": "Python 3",
   "language": "python",
   "name": "python3"
  },
  "language_info": {
   "codemirror_mode": {
    "name": "ipython",
    "version": 3
   },
   "file_extension": ".py",
   "mimetype": "text/x-python",
   "name": "python",
   "nbconvert_exporter": "python",
   "pygments_lexer": "ipython3",
   "version": "3.8.3"
  }
 },
 "nbformat": 4,
 "nbformat_minor": 4
}
