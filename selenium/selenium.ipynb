{
 "cells": [
  {
   "cell_type": "markdown",
   "metadata": {},
   "source": [
    "## Googleの検索結果をCSVに吐き出す"
   ]
  },
  {
   "cell_type": "code",
   "execution_count": 1,
   "metadata": {},
   "outputs": [],
   "source": [
    "from selenium import webdriver\n",
    "from time import sleep\n",
    "from selenium.webdriver.chrome.options import Options\n",
    "import csv\n",
    "import datetime"
   ]
  },
  {
   "cell_type": "code",
   "execution_count": 2,
   "metadata": {},
   "outputs": [],
   "source": [
    "options = Options()\n",
    "options.add_argument('--headless')\n",
    "driver = webdriver.Chrome('/Users/user/driver/chromedriver',options=options)\n",
    "driver.get('https://www.google.com/')"
   ]
  },
  {
   "cell_type": "code",
   "execution_count": 3,
   "metadata": {},
   "outputs": [],
   "source": [
    "# 検索バーの要素を取得\n",
    "search_bar = driver.find_element_by_name('q')\n",
    "\n",
    "# キーを送る\n",
    "search_bar.send_keys('python')"
   ]
  },
  {
   "cell_type": "code",
   "execution_count": 4,
   "metadata": {},
   "outputs": [],
   "source": [
    "# submit\n",
    "search_bar.submit()"
   ]
  },
  {
   "cell_type": "code",
   "execution_count": 5,
   "metadata": {},
   "outputs": [],
   "source": [
    "csv_date = datetime.datetime.today().strftime('%Y%m%d')"
   ]
  },
  {
   "cell_type": "code",
   "execution_count": 6,
   "metadata": {},
   "outputs": [],
   "source": [
    "csv_file_name = 'google_python_' + csv_date + '.csv'"
   ]
  },
  {
   "cell_type": "code",
   "execution_count": 7,
   "metadata": {},
   "outputs": [],
   "source": [
    "f = open(csv_file_name, 'w', encoding='cp932', errors='ignore')"
   ]
  },
  {
   "cell_type": "code",
   "execution_count": 8,
   "metadata": {},
   "outputs": [
    {
     "data": {
      "text/plain": [
       "14"
      ]
     },
     "execution_count": 8,
     "metadata": {},
     "output_type": "execute_result"
    }
   ],
   "source": [
    "writer = csv.writer(f, lineterminator='\\n')\n",
    "csv_header = ['検索順位','タイトル','URL']\n",
    "writer.writerow(csv_header)"
   ]
  },
  {
   "cell_type": "code",
   "execution_count": 9,
   "metadata": {},
   "outputs": [],
   "source": [
    "i = 0\n",
    "ranking = 1\n",
    "while True:\n",
    "    i = i + 1\n",
    "    sleep(1)\n",
    "    for elem_h3 in driver.find_elements_by_xpath('//a/h3'): # a > h3に該当する要素を抽出\n",
    "        csv_list = []\n",
    "        csv_list.append(str(ranking))\n",
    "        csv_list.append(elem_h3.text)\n",
    "        elem_a = elem_h3.find_element_by_xpath('..') # h3要素の親要素（a)を取得\n",
    "        csv_list.append(elem_a.get_attribute('href')) # aタグのhref属性\n",
    "        writer.writerow(csv_list)\n",
    "        ranking = ranking + 1\n",
    "    # 次のページのリンクを取得\n",
    "    next_link = driver.find_element_by_id('pnnext')\n",
    "    driver.get(next_link.get_attribute('href'))\n",
    "    if i > 4:\n",
    "        break\n",
    "f.close()"
   ]
  },
  {
   "cell_type": "code",
   "execution_count": null,
   "metadata": {},
   "outputs": [],
   "source": []
  }
 ],
 "metadata": {
  "kernelspec": {
   "display_name": "Python 3",
   "language": "python",
   "name": "python3"
  },
  "language_info": {
   "codemirror_mode": {
    "name": "ipython",
    "version": 3
   },
   "file_extension": ".py",
   "mimetype": "text/x-python",
   "name": "python",
   "nbconvert_exporter": "python",
   "pygments_lexer": "ipython3",
   "version": "3.8.3"
  }
 },
 "nbformat": 4,
 "nbformat_minor": 4
}
