{
 "cells": [
  {
   "cell_type": "markdown",
   "metadata": {},
   "source": [
    "## インスタグラムに自動ログイン"
   ]
  },
  {
   "cell_type": "code",
   "execution_count": 1,
   "metadata": {},
   "outputs": [],
   "source": [
    "from selenium import webdriver\n",
    "from time import sleep"
   ]
  },
  {
   "cell_type": "code",
   "execution_count": 2,
   "metadata": {},
   "outputs": [],
   "source": [
    "USERNAME = 'kei_01011'\n",
    "PASSWORD = 'ko3387'"
   ]
  },
  {
   "cell_type": "code",
   "execution_count": 3,
   "metadata": {},
   "outputs": [],
   "source": [
    "# options = Options()\n",
    "# options.add_argument('--headless')\n",
    "driver = webdriver.Chrome('/Users/user/driver/chromedriver')\n",
    "target_url = 'https://www.instagram.com/'\n",
    "driver.get(target_url)\n",
    "sleep(3)"
   ]
  },
  {
   "cell_type": "code",
   "execution_count": 4,
   "metadata": {},
   "outputs": [],
   "source": [
    "error_flg = False"
   ]
  },
  {
   "cell_type": "code",
   "execution_count": 5,
   "metadata": {},
   "outputs": [],
   "source": [
    "try:\n",
    "    username_input = driver.find_element_by_xpath(\"//input[@aria-label='電話番号、ユーザーネーム、メールアドレス']\")\n",
    "    username_input.send_keys(USERNAME)\n",
    "    sleep(1)\n",
    "    password_input = driver.find_element_by_xpath(\"//input[@aria-label='パスワード']\")\n",
    "    password_input.send_keys(PASSWORD)\n",
    "\n",
    "    login_button = driver.find_element_by_xpath(\"//button[@type='submit']\")\n",
    "    login_button.submit()\n",
    "    sleep(1)\n",
    "\n",
    "except Exception:\n",
    "    error_flg = True\n",
    "    print('ユーザー名、パスワード入力時にエラーが発生しました')"
   ]
  },
  {
   "cell_type": "code",
   "execution_count": 6,
   "metadata": {},
   "outputs": [],
   "source": [
    "# 後でのボタンをおす\n",
    "if error_flg is False:\n",
    "    try:\n",
    "        sleep(1)\n",
    "        # 後でが含まれるbutton要素\n",
    "        notnow_button = driver.find_element_by_xpath(\"//button[text()='後で']\")\n",
    "        notnow_button.click()\n",
    "        sleep(1)\n",
    "    except Exception:\n",
    "        # 例外の場合、処理をしない pass\n",
    "        pass"
   ]
  },
  {
   "cell_type": "code",
   "execution_count": 7,
   "metadata": {},
   "outputs": [],
   "source": [
    "# 後でのボタンをおす\n",
    "if error_flg is False:\n",
    "    try:\n",
    "        sleep(1)\n",
    "        # 後でが含まれるbutton要素\n",
    "        notnow_button_2 = driver.find_element_by_xpath(\"//button[text()='後で']\")\n",
    "        notnow_button_2.click()\n",
    "        sleep(1)\n",
    "    except Exception:\n",
    "        # 例外の場合、処理をしない pass\n",
    "        pass"
   ]
  },
  {
   "cell_type": "code",
   "execution_count": 8,
   "metadata": {},
   "outputs": [],
   "source": [
    "# ユーザーを検索、プロフィールページを開く\n",
    "target_user_name = 'snhr_minami'\n",
    "if error_flg is False:\n",
    "    try:\n",
    "        target_profile_url = target_url + target_user_name\n",
    "        driver.get(target_profile_url)\n",
    "        sleep(3)\n",
    "    except Exception:\n",
    "        print('検索時にエラーが発生しました')\n",
    "        error_flg = True"
   ]
  },
  {
   "cell_type": "code",
   "execution_count": 9,
   "metadata": {},
   "outputs": [
    {
     "name": "stdout",
     "output_type": "stream",
     "text": [
      "投稿件数：99\n"
     ]
    }
   ],
   "source": [
    "# スクロール回数計算のため、投稿数を取得\n",
    "if error_flg is False:\n",
    "    try:\n",
    "        post_count = driver.find_element_by_xpath(\"//span[text()='投稿']\").text\n",
    "        post_count = post_count.replace('投稿','').replace('件','')\n",
    "        post_count = int(post_count) # 整数に変換\n",
    "        if post_count > 12:\n",
    "\n",
    "            #スクロールが必要な回数\n",
    "            scroll_count = int(post_count / 12) + 1\n",
    "            try:\n",
    "                for i in range(scroll_count):\n",
    "                    driver.execute_script('window.scrollTo(0,document.body.scrollHeight);')\n",
    "                    sleep(2)\n",
    "            except Exception:\n",
    "                error_flg = True\n",
    "                print('画面スクロール中にエラーが発生しました')\n",
    "    except Exception:\n",
    "        print('投稿数が取得できませんでした。')\n",
    "        error_flg = True"
   ]
  },
  {
   "cell_type": "code",
   "execution_count": null,
   "metadata": {},
   "outputs": [],
   "source": []
  }
 ],
 "metadata": {
  "kernelspec": {
   "display_name": "Python 3",
   "language": "python",
   "name": "python3"
  },
  "language_info": {
   "codemirror_mode": {
    "name": "ipython",
    "version": 3
   },
   "file_extension": ".py",
   "mimetype": "text/x-python",
   "name": "python",
   "nbconvert_exporter": "python",
   "pygments_lexer": "ipython3",
   "version": "3.8.3"
  }
 },
 "nbformat": 4,
 "nbformat_minor": 4
}
