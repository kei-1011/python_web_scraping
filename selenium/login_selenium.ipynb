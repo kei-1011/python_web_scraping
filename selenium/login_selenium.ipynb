{
 "cells": [
  {
   "cell_type": "markdown",
   "metadata": {},
   "source": [
    "## インスタグラムに自動ログイン"
   ]
  },
  {
   "cell_type": "code",
   "execution_count": 1,
   "metadata": {},
   "outputs": [],
   "source": [
    "from selenium import webdriver\n",
    "from time import sleep"
   ]
  },
  {
   "cell_type": "code",
   "execution_count": 2,
   "metadata": {},
   "outputs": [],
   "source": [
    "USERNAME = 'kei_01011'\n",
    "PASSWORD = 'ko3387'"
   ]
  },
  {
   "cell_type": "code",
   "execution_count": 3,
   "metadata": {},
   "outputs": [],
   "source": [
    "# options = Options()\n",
    "# options.add_argument('--headless')\n",
    "driver = webdriver.Chrome('/Users/user/driver/chromedriver')\n",
    "target_url = 'https://www.instagram.com/'\n",
    "driver.get(target_url)\n",
    "sleep(3)"
   ]
  },
  {
   "cell_type": "code",
   "execution_count": 4,
   "metadata": {},
   "outputs": [],
   "source": [
    "error_flg = False"
   ]
  },
  {
   "cell_type": "code",
   "execution_count": 5,
   "metadata": {},
   "outputs": [],
   "source": [
    "try:\n",
    "    username_input = driver.find_element_by_xpath(\"//input[@aria-label='電話番号、ユーザーネーム、メールアドレス']\")\n",
    "    username_input.send_keys(USERNAME)\n",
    "    sleep(1)\n",
    "    password_input = driver.find_element_by_xpath(\"//input[@aria-label='パスワード']\")\n",
    "    password_input.send_keys(PASSWORD)\n",
    "\n",
    "    login_button = driver.find_element_by_xpath(\"//button[@type='submit']\")\n",
    "    login_button.submit()\n",
    "    sleep(1)\n",
    "\n",
    "except Exception:\n",
    "    error_flg = True\n",
    "    print('ユーザー名、パスワード入力時にエラーが発生しました')"
   ]
  },
  {
   "cell_type": "code",
   "execution_count": 6,
   "metadata": {},
   "outputs": [],
   "source": [
    "# 後でのボタンをおす\n",
    "if error_flg is False:\n",
    "    try:\n",
    "        sleep(1)\n",
    "        # 後でが含まれるbutton要素\n",
    "        notnow_button = driver.find_element_by_xpath(\"//button[text()='後で']\")\n",
    "        notnow_button.click()\n",
    "        sleep(1)\n",
    "    except Exception:\n",
    "        # 例外の場合、処理をしない pass\n",
    "        pass"
   ]
  },
  {
   "cell_type": "code",
   "execution_count": 7,
   "metadata": {},
   "outputs": [],
   "source": [
    "# 後でのボタンをおす\n",
    "if error_flg is False:\n",
    "    try:\n",
    "        sleep(1)\n",
    "        # 後でが含まれるbutton要素\n",
    "        notnow_button_2 = driver.find_element_by_xpath(\"//button[text()='後で']\")\n",
    "        notnow_button_2.click()\n",
    "        sleep(1)\n",
    "    except Exception:\n",
    "        # 例外の場合、処理をしない pass\n",
    "        pass"
   ]
  }
 ],
 "metadata": {
  "kernelspec": {
   "display_name": "Python 3",
   "language": "python",
   "name": "python3"
  },
  "language_info": {
   "codemirror_mode": {
    "name": "ipython",
    "version": 3
   },
   "file_extension": ".py",
   "mimetype": "text/x-python",
   "name": "python",
   "nbconvert_exporter": "python",
   "pygments_lexer": "ipython3",
   "version": "3.8.3"
  }
 },
 "nbformat": 4,
 "nbformat_minor": 4
}
