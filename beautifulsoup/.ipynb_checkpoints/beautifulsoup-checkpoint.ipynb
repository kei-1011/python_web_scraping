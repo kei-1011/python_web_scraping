{
 "cells": [
  {
   "cell_type": "code",
   "execution_count": 2,
   "metadata": {},
   "outputs": [],
   "source": [
    "from bs4 import BeautifulSoup"
   ]
  },
  {
   "cell_type": "code",
   "execution_count": 3,
   "metadata": {},
   "outputs": [],
   "source": [
    "html = '''\n",
    "<html>\n",
    "    <head>\n",
    "        <title>清水義孝の著書</title>\n",
    "    </head>\n",
    "    <body>\n",
    "        <p class=\"title\">\n",
    "            <b>清水義孝の最新の著書には、次の本があります。</b>\n",
    "        </p>\n",
    "        <p class=\"recent books\">\n",
    "            <a class=\"book\" href=\"https://www.amazon.co.jp/dp/B07TN4D3HG\" id=\"link1\">Python3によるビジネスに役立つデータ分析入門</a>、\n",
    "            <a class=\"book\" href=\"http://www.amazon.co.jp/dp/B07SRLRS4M\" id=\"link2\">よくわかるPython3入門2.NumPy・Matplotlib編</a>、\n",
    "            <a class=\"book\" href=\"http://www.amazon.co.jp/dp/B07T9SZ96B\" id=\"link3\">よくわかるPython3入門4.Pandasでデータ分析編</a>\n",
    "        </p>\n",
    "        <p class=\"end\">\n",
    "            <b>そして、これらの本は好評発売中です。</b>\n",
    "        </p>\n",
    "    </body>\n",
    "</html>\n",
    "'''"
   ]
  },
  {
   "cell_type": "code",
   "execution_count": 4,
   "metadata": {},
   "outputs": [],
   "source": [
    "soup = BeautifulSoup(html,'html.parser')"
   ]
  },
  {
   "cell_type": "code",
   "execution_count": 5,
   "metadata": {},
   "outputs": [
    {
     "name": "stdout",
     "output_type": "stream",
     "text": [
      "\n",
      "<html>\n",
      "<head>\n",
      "<title>清水義孝の著書</title>\n",
      "</head>\n",
      "<body>\n",
      "<p class=\"title\">\n",
      "<b>清水義孝の最新の著書には、次の本があります。</b>\n",
      "</p>\n",
      "<p class=\"recent books\">\n",
      "<a class=\"book\" href=\"https://www.amazon.co.jp/dp/B07TN4D3HG\" id=\"link1\">Python3によるビジネスに役立つデータ分析入門</a>、\n",
      "            <a class=\"book\" href=\"http://www.amazon.co.jp/dp/B07SRLRS4M\" id=\"link2\">よくわかるPython3入門2.NumPy・Matplotlib編</a>、\n",
      "            <a class=\"book\" href=\"http://www.amazon.co.jp/dp/B07T9SZ96B\" id=\"link3\">よくわかるPython3入門4.Pandasでデータ分析編</a>\n",
      "</p>\n",
      "<p class=\"end\">\n",
      "<b>そして、これらの本は好評発売中です。</b>\n",
      "</p>\n",
      "</body>\n",
      "</html>\n",
      "\n"
     ]
    }
   ],
   "source": [
    "print(soup)"
   ]
  },
  {
   "cell_type": "code",
   "execution_count": 7,
   "metadata": {},
   "outputs": [
    {
     "name": "stdout",
     "output_type": "stream",
     "text": [
      "<html>\n",
      " <head>\n",
      "  <title>\n",
      "   清水義孝の著書\n",
      "  </title>\n",
      " </head>\n",
      " <body>\n",
      "  <p class=\"title\">\n",
      "   <b>\n",
      "    清水義孝の最新の著書には、次の本があります。\n",
      "   </b>\n",
      "  </p>\n",
      "  <p class=\"recent books\">\n",
      "   <a class=\"book\" href=\"https://www.amazon.co.jp/dp/B07TN4D3HG\" id=\"link1\">\n",
      "    Python3によるビジネスに役立つデータ分析入門\n",
      "   </a>\n",
      "   、\n",
      "   <a class=\"book\" href=\"http://www.amazon.co.jp/dp/B07SRLRS4M\" id=\"link2\">\n",
      "    よくわかるPython3入門2.NumPy・Matplotlib編\n",
      "   </a>\n",
      "   、\n",
      "   <a class=\"book\" href=\"http://www.amazon.co.jp/dp/B07T9SZ96B\" id=\"link3\">\n",
      "    よくわかるPython3入門4.Pandasでデータ分析編\n",
      "   </a>\n",
      "  </p>\n",
      "  <p class=\"end\">\n",
      "   <b>\n",
      "    そして、これらの本は好評発売中です。\n",
      "   </b>\n",
      "  </p>\n",
      " </body>\n",
      "</html>\n",
      "\n"
     ]
    }
   ],
   "source": [
    "print(soup.prettify())"
   ]
  },
  {
   "cell_type": "code",
   "execution_count": 8,
   "metadata": {},
   "outputs": [
    {
     "name": "stdout",
     "output_type": "stream",
     "text": [
      "<title>清水義孝の著書</title>\n"
     ]
    }
   ],
   "source": [
    "print(soup.html.head.title)"
   ]
  },
  {
   "cell_type": "code",
   "execution_count": 9,
   "metadata": {},
   "outputs": [
    {
     "name": "stdout",
     "output_type": "stream",
     "text": [
      "清水義孝の著書\n"
     ]
    }
   ],
   "source": [
    "print(soup.html.head.title.string)"
   ]
  },
  {
   "cell_type": "code",
   "execution_count": 10,
   "metadata": {},
   "outputs": [
    {
     "name": "stdout",
     "output_type": "stream",
     "text": [
      "title\n"
     ]
    }
   ],
   "source": [
    "print(soup.html.head.title.name)"
   ]
  },
  {
   "cell_type": "code",
   "execution_count": 13,
   "metadata": {},
   "outputs": [
    {
     "name": "stdout",
     "output_type": "stream",
     "text": [
      "<p class=\"title\">\n",
      "<b>清水義孝の最新の著書には、次の本があります。</b>\n",
      "</p>\n"
     ]
    }
   ],
   "source": [
    "print(soup.body.p)"
   ]
  },
  {
   "cell_type": "code",
   "execution_count": 18,
   "metadata": {},
   "outputs": [
    {
     "name": "stdout",
     "output_type": "stream",
     "text": [
      "<p class=\"recent books\">\n",
      "<a class=\"book\" href=\"https://www.amazon.co.jp/dp/B07TN4D3HG\" id=\"link1\">Python3によるビジネスに役立つデータ分析入門</a>、\n",
      "            <a class=\"book\" href=\"http://www.amazon.co.jp/dp/B07SRLRS4M\" id=\"link2\">よくわかるPython3入門2.NumPy・Matplotlib編</a>、\n",
      "            <a class=\"book\" href=\"http://www.amazon.co.jp/dp/B07T9SZ96B\" id=\"link3\">よくわかるPython3入門4.Pandasでデータ分析編</a>\n",
      "</p>\n"
     ]
    }
   ],
   "source": [
    "print(soup.body.p.next_sibling.next_sibling)"
   ]
  },
  {
   "cell_type": "code",
   "execution_count": 19,
   "metadata": {},
   "outputs": [
    {
     "name": "stdout",
     "output_type": "stream",
     "text": [
      "<a class=\"book\" href=\"https://www.amazon.co.jp/dp/B07TN4D3HG\" id=\"link1\">Python3によるビジネスに役立つデータ分析入門</a>\n"
     ]
    }
   ],
   "source": [
    "print(soup.body.a)"
   ]
  },
  {
   "cell_type": "code",
   "execution_count": 20,
   "metadata": {},
   "outputs": [
    {
     "name": "stdout",
     "output_type": "stream",
     "text": [
      "https://www.amazon.co.jp/dp/B07TN4D3HG\n"
     ]
    }
   ],
   "source": [
    "print(soup.body.a['href'])"
   ]
  },
  {
   "cell_type": "code",
   "execution_count": 21,
   "metadata": {},
   "outputs": [
    {
     "name": "stdout",
     "output_type": "stream",
     "text": [
      "[<a class=\"book\" href=\"https://www.amazon.co.jp/dp/B07TN4D3HG\" id=\"link1\">Python3によるビジネスに役立つデータ分析入門</a>, <a class=\"book\" href=\"http://www.amazon.co.jp/dp/B07SRLRS4M\" id=\"link2\">よくわかるPython3入門2.NumPy・Matplotlib編</a>, <a class=\"book\" href=\"http://www.amazon.co.jp/dp/B07T9SZ96B\" id=\"link3\">よくわかるPython3入門4.Pandasでデータ分析編</a>]\n"
     ]
    }
   ],
   "source": [
    "print(soup.find_all('a'))"
   ]
  },
  {
   "cell_type": "code",
   "execution_count": 22,
   "metadata": {},
   "outputs": [
    {
     "name": "stdout",
     "output_type": "stream",
     "text": [
      "<a class=\"book\" href=\"https://www.amazon.co.jp/dp/B07TN4D3HG\" id=\"link1\">Python3によるビジネスに役立つデータ分析入門</a>\n",
      "\n",
      "<a class=\"book\" href=\"http://www.amazon.co.jp/dp/B07SRLRS4M\" id=\"link2\">よくわかるPython3入門2.NumPy・Matplotlib編</a>\n",
      "\n",
      "<a class=\"book\" href=\"http://www.amazon.co.jp/dp/B07T9SZ96B\" id=\"link3\">よくわかるPython3入門4.Pandasでデータ分析編</a>\n",
      "\n"
     ]
    }
   ],
   "source": [
    "for tag_a in soup.find_all('a'):\n",
    "    print(tag_a,end='\\n')"
   ]
  },
  {
   "cell_type": "code",
   "execution_count": 23,
   "metadata": {},
   "outputs": [
    {
     "name": "stdout",
     "output_type": "stream",
     "text": [
      "Python3によるビジネスに役立つデータ分析入門\n",
      "https://www.amazon.co.jp/dp/B07TN4D3HG\n",
      "よくわかるPython3入門2.NumPy・Matplotlib編\n",
      "http://www.amazon.co.jp/dp/B07SRLRS4M\n",
      "よくわかるPython3入門4.Pandasでデータ分析編\n",
      "http://www.amazon.co.jp/dp/B07T9SZ96B\n"
     ]
    }
   ],
   "source": [
    "for tag_a in soup.find_all('a'):\n",
    "    print(tag_a.string)\n",
    "    print(tag_a['href'],end='\\n')"
   ]
  },
  {
   "cell_type": "code",
   "execution_count": 28,
   "metadata": {},
   "outputs": [
    {
     "name": "stdout",
     "output_type": "stream",
     "text": [
      "[<b>そして、これらの本は好評発売中です。</b>]\n"
     ]
    }
   ],
   "source": [
    "print(soup.select('.end > b'))"
   ]
  },
  {
   "cell_type": "code",
   "execution_count": 30,
   "metadata": {},
   "outputs": [
    {
     "name": "stdout",
     "output_type": "stream",
     "text": [
      "そして、これらの本は好評発売中です。\n"
     ]
    }
   ],
   "source": [
    "print(soup.select('.end > b')[0].string)"
   ]
  },
  {
   "cell_type": "code",
   "execution_count": null,
   "metadata": {},
   "outputs": [],
   "source": []
  }
 ],
 "metadata": {
  "kernelspec": {
   "display_name": "Python 3",
   "language": "python",
   "name": "python3"
  },
  "language_info": {
   "codemirror_mode": {
    "name": "ipython",
    "version": 3
   },
   "file_extension": ".py",
   "mimetype": "text/x-python",
   "name": "python",
   "nbconvert_exporter": "python",
   "pygments_lexer": "ipython3",
   "version": "3.8.3"
  }
 },
 "nbformat": 4,
 "nbformat_minor": 4
}
