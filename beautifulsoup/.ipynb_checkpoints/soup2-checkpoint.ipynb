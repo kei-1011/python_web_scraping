{
 "cells": [
  {
   "cell_type": "markdown",
   "metadata": {},
   "source": [
    "## 読売新聞オンラインから記事情報の取得"
   ]
  },
  {
   "cell_type": "code",
   "execution_count": 1,
   "metadata": {},
   "outputs": [],
   "source": [
    "import requests"
   ]
  },
  {
   "cell_type": "code",
   "execution_count": 10,
   "metadata": {},
   "outputs": [],
   "source": [
    "from bs4 import BeautifulSoup"
   ]
  },
  {
   "cell_type": "code",
   "execution_count": 11,
   "metadata": {},
   "outputs": [],
   "source": [
    "url = 'https://www.yomiuri.co.jp/'"
   ]
  },
  {
   "cell_type": "code",
   "execution_count": 12,
   "metadata": {},
   "outputs": [],
   "source": [
    "res = requests.get(url)"
   ]
  },
  {
   "cell_type": "code",
   "execution_count": 13,
   "metadata": {},
   "outputs": [
    {
     "data": {
      "text/plain": [
       "200"
      ]
     },
     "execution_count": 13,
     "metadata": {},
     "output_type": "execute_result"
    }
   ],
   "source": [
    "res.status_code"
   ]
  },
  {
   "cell_type": "code",
   "execution_count": 22,
   "metadata": {},
   "outputs": [],
   "source": [
    "soup = BeautifulSoup(res.text,'html.parser')"
   ]
  },
  {
   "cell_type": "code",
   "execution_count": 23,
   "metadata": {},
   "outputs": [],
   "source": [
    "list = []"
   ]
  },
  {
   "cell_type": "code",
   "execution_count": 32,
   "metadata": {},
   "outputs": [],
   "source": [
    "emls = soup.select('body div.home-2020-prime-topnews.active > h3 > a')"
   ]
  },
  {
   "cell_type": "code",
   "execution_count": 34,
   "metadata": {},
   "outputs": [
    {
     "data": {
      "text/plain": [
       "'【独自】男女共同参画、指導層「女性３割」先送り…政府原案「２０年代早期」に'"
      ]
     },
     "execution_count": 34,
     "metadata": {},
     "output_type": "execute_result"
    }
   ],
   "source": [
    "emls[0].contents[0]"
   ]
  },
  {
   "cell_type": "code",
   "execution_count": 37,
   "metadata": {},
   "outputs": [
    {
     "data": {
      "text/plain": [
       "'https://www.yomiuri.co.jp/politics/20201207-OYT1T50250/'"
      ]
     },
     "execution_count": 37,
     "metadata": {},
     "output_type": "execute_result"
    }
   ],
   "source": [
    "emls[0].attrs['href']"
   ]
  },
  {
   "cell_type": "code",
   "execution_count": 38,
   "metadata": {},
   "outputs": [],
   "source": [
    "elms = soup.select('body div.home-2020-headline.home-2020-prime-headline > ul.active > li > h3 > a')"
   ]
  },
  {
   "cell_type": "code",
   "execution_count": 42,
   "metadata": {},
   "outputs": [
    {
     "name": "stdout",
     "output_type": "stream",
     "text": [
      "[<a href=\"https://www.yomiuri.co.jp/national/20201207-OYT1T50298/\">【独自】ＧｏＴｏ電子クーポン、本人確認強化後も不正続く…「紙」に切り替える動き</a>, <a href=\"https://www.yomiuri.co.jp/world/20201208-OYT1T50111/\">英とＥＵの首脳交渉、妥結せず継続…自由貿易協定など</a>, <a href=\"https://www.yomiuri.co.jp/science/20201207-OYT1T50204/\">「はやぶさ２」のカプセルからガス検出…ＪＡＸＡ「試料採取成功の可能性高まった」</a>, <a href=\"https://www.yomiuri.co.jp/national/20201207-OYT1T50213/\">バス運転手自殺、市に６３００万円賠償命令…「アナウンスが葬式の司会者のよう」と上司注意</a>, <a href=\"https://www.yomiuri.co.jp/national/20201208-OYT1T50101/\">【独自】わいせつ教員の懲戒免職、各地で「差」…「教え子でない」「キス回数少ない」と停職も</a>, <a href=\"https://www.yomiuri.co.jp/national/20201207-OYT1T50275/\">【独自】わいせつ行為などで教員免許失効、官報不掲載１１人…沖縄県教委</a>, <a href=\"https://www.yomiuri.co.jp/national/20201208-OYT1T50016/\">【独自】監察役の警視が部下に「バカ」と暴言、退職願書かせる…パワハラで本部長訓戒</a>, <a href=\"https://www.yomiuri.co.jp/national/20201208-OYT1T50042/\">いじめ調査の回答改ざん、仙台の小学校講師を免職</a>, <a href=\"https://www.yomiuri.co.jp/national/20201206-OYT1T50082/\">メガソーラー反対派に焼酎と１００万円持参…建設巡り対立の中</a>]\n"
     ]
    }
   ],
   "source": [
    "print(elms)"
   ]
  },
  {
   "cell_type": "code",
   "execution_count": 50,
   "metadata": {},
   "outputs": [
    {
     "name": "stdout",
     "output_type": "stream",
     "text": [
      "【独自】ＧｏＴｏ電子クーポン、本人確認強化後も不正続く…「紙」に切り替える動き\n",
      "https://www.yomiuri.co.jp/national/20201207-OYT1T50298/\n",
      "\n",
      "英とＥＵの首脳交渉、妥結せず継続…自由貿易協定など\n",
      "https://www.yomiuri.co.jp/world/20201208-OYT1T50111/\n",
      "\n",
      "「はやぶさ２」のカプセルからガス検出…ＪＡＸＡ「試料採取成功の可能性高まった」\n",
      "https://www.yomiuri.co.jp/science/20201207-OYT1T50204/\n",
      "\n",
      "バス運転手自殺、市に６３００万円賠償命令…「アナウンスが葬式の司会者のよう」と上司注意\n",
      "https://www.yomiuri.co.jp/national/20201207-OYT1T50213/\n",
      "\n",
      "【独自】わいせつ教員の懲戒免職、各地で「差」…「教え子でない」「キス回数少ない」と停職も\n",
      "https://www.yomiuri.co.jp/national/20201208-OYT1T50101/\n",
      "\n",
      "【独自】わいせつ行為などで教員免許失効、官報不掲載１１人…沖縄県教委\n",
      "https://www.yomiuri.co.jp/national/20201207-OYT1T50275/\n",
      "\n",
      "【独自】監察役の警視が部下に「バカ」と暴言、退職願書かせる…パワハラで本部長訓戒\n",
      "https://www.yomiuri.co.jp/national/20201208-OYT1T50016/\n",
      "\n",
      "いじめ調査の回答改ざん、仙台の小学校講師を免職\n",
      "https://www.yomiuri.co.jp/national/20201208-OYT1T50042/\n",
      "\n",
      "メガソーラー反対派に焼酎と１００万円持参…建設巡り対立の中\n",
      "https://www.yomiuri.co.jp/national/20201206-OYT1T50082/\n",
      "\n"
     ]
    }
   ],
   "source": [
    "for sibling in elms:\n",
    "    print(sibling.text,end='\\n')\n",
    "    print(sibling['href'],end='\\n\\n')    "
   ]
  },
  {
   "cell_type": "code",
   "execution_count": null,
   "metadata": {},
   "outputs": [],
   "source": []
  },
  {
   "cell_type": "code",
   "execution_count": null,
   "metadata": {},
   "outputs": [],
   "source": []
  },
  {
   "cell_type": "code",
   "execution_count": null,
   "metadata": {},
   "outputs": [],
   "source": []
  }
 ],
 "metadata": {
  "kernelspec": {
   "display_name": "Python 3",
   "language": "python",
   "name": "python3"
  },
  "language_info": {
   "codemirror_mode": {
    "name": "ipython",
    "version": 3
   },
   "file_extension": ".py",
   "mimetype": "text/x-python",
   "name": "python",
   "nbconvert_exporter": "python",
   "pygments_lexer": "ipython3",
   "version": "3.8.3"
  }
 },
 "nbformat": 4,
 "nbformat_minor": 4
}
